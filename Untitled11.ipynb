{
  "cells": [
    {
      "cell_type": "code",
      "execution_count": null,
      "metadata": {
        "colab": {
          "base_uri": "https://localhost:8080/",
          "height": 1000
        },
        "id": "3xhSHFBCe5HH",
        "outputId": "eb4b64ec-2bab-43be-d1c4-4618e8c988b7"
      },
      "outputs": [
        {
          "data": {
            "image/png": "[encoded data removed]",
            "text/plain": [
              "<Figure size 1000x500 with 4 Axes>"
            ]
          },
          "metadata": {},
          "output_type": "display_data"
        },
        {
          "name": "stdout",
          "output_type": "stream",
          "text": [
            "Input data shape (sklearn): (60000, 784)\n",
            "Target data shape (sklearn): (60000,)\n"
          ]
        },
        {
          "data": {
            "image/png": "[encoded data removed]",
            "text/plain": [
              "<Figure size 640x480 with 10 Axes>"
            ]
          },
          "metadata": {},
          "output_type": "display_data"
        },
        {
          "name": "stderr",
          "output_type": "stream",
          "text": [
            "/usr/local/lib/python3.11/dist-packages/sklearn/neural_network/_multilayer_perceptron.py:691: ConvergenceWarning: Stochastic Optimizer: Maximum iterations (10) reached and the optimization hasn't converged yet.\n",
            "  warnings.warn(\n"
          ]
        },
        {
          "name": "stdout",
          "output_type": "stream",
          "text": [
            "Accuracy (sklearn dataset): 0.9661666666666666\n",
            "Precision: 0.9660113583618152\n",
            "Recall: 0.9658346255692474\n",
            "F1 Score: 0.9659076963920341\n"
          ]
        },
        {
          "name": "stderr",
          "output_type": "stream",
          "text": [
            "/usr/local/lib/python3.11/dist-packages/sklearn/neural_network/_multilayer_perceptron.py:691: ConvergenceWarning: Stochastic Optimizer: Maximum iterations (10) reached and the optimization hasn't converged yet.\n",
            "  warnings.warn(\n"
          ]
        },
        {
          "name": "stdout",
          "output_type": "stream",
          "text": [
            "Train-Test Split (60.0-40.0): Accuracy = 0.9633333333333334\n"
          ]
        },
        {
          "name": "stderr",
          "output_type": "stream",
          "text": [
            "/usr/local/lib/python3.11/dist-packages/sklearn/neural_network/_multilayer_perceptron.py:691: ConvergenceWarning: Stochastic Optimizer: Maximum iterations (10) reached and the optimization hasn't converged yet.\n",
            "  warnings.warn(\n"
          ]
        },
        {
          "name": "stdout",
          "output_type": "stream",
          "text": [
            "Train-Test Split (75.0-25.0): Accuracy = 0.9648666666666667\n"
          ]
        },
        {
          "name": "stderr",
          "output_type": "stream",
          "text": [
            "/usr/local/lib/python3.11/dist-packages/sklearn/neural_network/_multilayer_perceptron.py:691: ConvergenceWarning: Stochastic Optimizer: Maximum iterations (10) reached and the optimization hasn't converged yet.\n",
            "  warnings.warn(\n"
          ]
        },
        {
          "name": "stdout",
          "output_type": "stream",
          "text": [
            "Train-Test Split (80.0-20.0): Accuracy = 0.9661666666666666\n"
          ]
        },
        {
          "name": "stderr",
          "output_type": "stream",
          "text": [
            "/usr/local/lib/python3.11/dist-packages/sklearn/neural_network/_multilayer_perceptron.py:691: ConvergenceWarning: Stochastic Optimizer: Maximum iterations (10) reached and the optimization hasn't converged yet.\n",
            "  warnings.warn(\n"
          ]
        },
        {
          "name": "stdout",
          "output_type": "stream",
          "text": [
            "Train-Test Split (90.0-10.0): Accuracy = 0.969\n"
          ]
        },
        {
          "name": "stderr",
          "output_type": "stream",
          "text": [
            "/usr/local/lib/python3.11/dist-packages/sklearn/neural_network/_multilayer_perceptron.py:691: ConvergenceWarning: Stochastic Optimizer: Maximum iterations (20) reached and the optimization hasn't converged yet.\n",
            "  warnings.warn(\n"
          ]
        },
        {
          "name": "stdout",
          "output_type": "stream",
          "text": [
            "Iterations 20: Accuracy = 0.9693333333333334\n"
          ]
        },
        {
          "name": "stderr",
          "output_type": "stream",
          "text": [
            "/usr/local/lib/python3.11/dist-packages/sklearn/neural_network/_multilayer_perceptron.py:691: ConvergenceWarning: Stochastic Optimizer: Maximum iterations (50) reached and the optimization hasn't converged yet.\n",
            "  warnings.warn(\n"
          ]
        },
        {
          "name": "stdout",
          "output_type": "stream",
          "text": [
            "Iterations 50: Accuracy = 0.9743333333333334\n",
            "Iterations 100: Accuracy = 0.974\n",
            "Iterations 150: Accuracy = 0.974\n",
            "Iterations 200: Accuracy = 0.974\n"
          ]
        }
      ],
      "source": [
        "# Import necessary libraries\n",
        "import matplotlib.pyplot as plt\n",
        "import numpy as np\n",
        "from sklearn.datasets import fetch_openml\n",
        "from sklearn.model_selection import train_test_split\n",
        "from sklearn.neural_network import MLPClassifier\n",
        "from sklearn.preprocessing import StandardScaler\n",
        "from sklearn.metrics import accuracy_score, precision_recall_fscore_support\n",
        "from tensorflow.keras.datasets import mnist  # Newly added import for Keras dataset\n",
        "\n",
        "# Load the MNIST dataset from Keras\n",
        "(X_sklearn, y_sklearn), (_, _) = mnist.load_data()\n",
        "\n",
        "# Reshape the images into a 2D array (samples, features) before scaling\n",
        "X_sklearn = X_sklearn.reshape(X_sklearn.shape[0], -1)\n",
        "# X_sklearn.shape[0] keeps the number of samples\n",
        "# -1 automatically calculates the number of features (28*28 = 784)\n",
        "\n",
        "\n",
        "# Display 4 images from the Keras MNIST dataset\n",
        "plt.figure(figsize=(10, 5))\n",
        "for i in range(4):\n",
        "    plt.subplot(1, 4, i+1)\n",
        "    # Reshape the image back to 28x28 for display\n",
        "    plt.imshow(X_sklearn[i].reshape(28, 28), cmap='gray')\n",
        "    plt.title(f\"Label: {y_sklearn[i]}\")\n",
        "    plt.axis('off')\n",
        "plt.tight_layout()\n",
        "plt.show()\n",
        "\n",
        "# ... (Rest of your code) ...\n",
        "# Q2: Print the shape of the input data and target data\n",
        "print(f\"Input data shape (sklearn): {X_sklearn.shape}\")  # Expected (70000, 784)\n",
        "print(f\"Target data shape (sklearn): {y_sklearn.shape}\")  # Expected (70000,)\n",
        "\n",
        "# Q3: Display the top 10 images using matplotlib from Scikit-learn dataset\n",
        "for i in range(10):\n",
        "    image = X_sklearn[i].reshape(28, 28)\n",
        "    plt.subplot(2, 5, i+1)\n",
        "    plt.imshow(image, cmap='gray')\n",
        "    plt.axis('off')\n",
        "plt.show()\n",
        "\n",
        "# Q4: Scale the data (standardizing features) for sklearn dataset\n",
        "scaler = StandardScaler()\n",
        "X_scaled_sklearn = scaler.fit_transform(X_sklearn)\n",
        "\n",
        "# Q6: Split the dataset into 80% training and 20% testing\n",
        "X_train_sklearn, X_test_sklearn, y_train_sklearn, y_test_sklearn = train_test_split(X_scaled_sklearn, y_sklearn, test_size=0.2, random_state=42)\n",
        "\n",
        "# Q7: Train FFN with one hidden layer and 64 neurons, and set max_iter to 10\n",
        "mlp = MLPClassifier(hidden_layer_sizes=(64,), max_iter=10, random_state=42)\n",
        "mlp.fit(X_train_sklearn, y_train_sklearn)\n",
        "\n",
        "# Q8: Predict on the test set and print accuracy, precision, recall, and F1 scores\n",
        "y_pred_sklearn = mlp.predict(X_test_sklearn)\n",
        "accuracy = accuracy_score(y_test_sklearn, y_pred_sklearn)\n",
        "precision, recall, f1, _ = precision_recall_fscore_support(y_test_sklearn, y_pred_sklearn, average='macro')\n",
        "\n",
        "print(f\"Accuracy (sklearn dataset): {accuracy}\")\n",
        "print(f\"Precision: {precision}\")\n",
        "print(f\"Recall: {recall}\")\n",
        "print(f\"F1 Score: {f1}\")\n",
        "\n",
        "# Q9: Compare different train-test splits and analyze accuracy\n",
        "splits = [(0.6, 0.4), (0.75, 0.25), (0.8, 0.2), (0.9, 0.1)]\n",
        "for train_size, test_size in splits:\n",
        "    X_train_sklearn, X_test_sklearn, y_train_sklearn, y_test_sklearn = train_test_split(X_scaled_sklearn, y_sklearn, train_size=train_size, test_size=test_size, random_state=42)\n",
        "    mlp.fit(X_train_sklearn, y_train_sklearn)\n",
        "    y_pred_sklearn = mlp.predict(X_test_sklearn)\n",
        "    accuracy = accuracy_score(y_test_sklearn, y_pred_sklearn)\n",
        "    print(f\"Train-Test Split ({train_size*100}-{test_size*100}): Accuracy = {accuracy}\")\n",
        "\n",
        "# Q10: Playing with iterations\n",
        "iterations = [20, 50, 100, 150, 200]\n",
        "for iter in iterations:\n",
        "    mlp = MLPClassifier(hidden_layer_sizes=(64,), max_iter=iter, random_state=42)\n",
        "    mlp.fit(X_train_sklearn, y_train_sklearn)\n",
        "    y_pred_sklearn = mlp.predict(X_test_sklearn)\n",
        "    accuracy = accuracy_score(y_test_sklearn, y_pred_sklearn)\n",
        "    print(f\"Iterations {iter}: Accuracy = {accuracy}\")"
      ]
    },
    {
      "cell_type": "code",
      "execution_count": null,
      "metadata": {
        "colab": {
          "background_save": true,
          "base_uri": "https://localhost:8080/"
        },
        "id": "xKnFOhFChODZ",
        "outputId": "66f4f908-3a9b-4f8c-cbd9-b1e04e7088d2"
      },
      "outputs": [
        {
          "name": "stderr",
          "output_type": "stream",
          "text": [
            "/usr/local/lib/python3.11/dist-packages/keras/src/layers/core/input_layer.py:26: UserWarning: Argument `input_shape` is deprecated. Use `shape` instead.\n",
            "  warnings.warn(\n"
          ]
        },
        {
          "name": "stdout",
          "output_type": "stream",
          "text": [
            "Hidden Layers: 1, Nodes per Layer: 4, Epochs: 10\n",
            "Test Accuracy: 0.8704, Training Time: 50.4959 seconds\n",
            "Number of Parameters: 3190\n",
            "Hidden Layers: 1, Nodes per Layer: 32, Epochs: 10\n",
            "Test Accuracy: 0.9675, Training Time: 45.2313 seconds\n",
            "Number of Parameters: 25450\n",
            "Hidden Layers: 1, Nodes per Layer: 64, Epochs: 10\n",
            "Test Accuracy: 0.9728, Training Time: 50.0890 seconds\n",
            "Number of Parameters: 50890\n",
            "Hidden Layers: 1, Nodes per Layer: 128, Epochs: 10\n",
            "Test Accuracy: 0.9753, Training Time: 50.6475 seconds\n",
            "Number of Parameters: 101770\n",
            "Hidden Layers: 1, Nodes per Layer: 512, Epochs: 10\n",
            "Test Accuracy: 0.9818, Training Time: 47.2506 seconds\n",
            "Number of Parameters: 407050\n",
            "Hidden Layers: 1, Nodes per Layer: 2056, Epochs: 10\n",
            "Test Accuracy: 0.9831, Training Time: 52.8876 seconds\n",
            "Number of Parameters: 1634530\n",
            "Hidden Layers: 4, Nodes per Layer: 64, Epochs: 10\n",
            "Test Accuracy: 0.9735, Training Time: 53.2027 seconds\n",
            "Number of Parameters: 63370\n",
            "Hidden Layers: 5, Nodes per Layer: 64, Epochs: 10\n",
            "Test Accuracy: 0.9713, Training Time: 55.3412 seconds\n",
            "Number of Parameters: 67530\n",
            "Hidden Layers: 6, Nodes per Layer: 64, Epochs: 10\n",
            "Test Accuracy: 0.9727, Training Time: 57.1198 seconds\n",
            "Number of Parameters: 71690\n",
            "Hidden Layers: 8, Nodes per Layer: 64, Epochs: 10\n",
            "Test Accuracy: 0.9749, Training Time: 58.4731 seconds\n",
            "Number of Parameters: 80010\n",
            "Hidden Layers: 16, Nodes per Layer: 64, Epochs: 10\n",
            "Test Accuracy: 0.9700, Training Time: 88.3899 seconds\n",
            "Number of Parameters: 113290\n",
            "Running models with 30 epochs...\n",
            "Hidden Layers: 4, Nodes per Layer: 64, Epochs: 30\n",
            "Test Accuracy: 0.9754, Training Time: 144.5641 seconds\n",
            "Number of Parameters: 63370\n",
            "Hidden Layers: 5, Nodes per Layer: 64, Epochs: 30\n",
            "Test Accuracy: 0.9783, Training Time: 143.1705 seconds\n",
            "Number of Parameters: 67530\n",
            "Hidden Layers: 6, Nodes per Layer: 64, Epochs: 30\n",
            "Test Accuracy: 0.9713, Training Time: 147.0904 seconds\n",
            "Number of Parameters: 71690\n",
            "Hidden Layers: 8, Nodes per Layer: 64, Epochs: 30\n",
            "Test Accuracy: 0.9755, Training Time: 189.3026 seconds\n",
            "Number of Parameters: 80010\n",
            "Hidden Layers: 16, Nodes per Layer: 64, Epochs: 30\n",
            "Test Accuracy: 0.9744, Training Time: 272.6798 seconds\n",
            "Number of Parameters: 113290\n",
            "Layer-node combinations\n",
            "Hidden Layers: 3, Nodes per Layer: 64, Epochs: 10\n",
            "Test Accuracy: 0.9730, Training Time: 46.2037 seconds\n",
            "Number of Parameters: 59210\n",
            "Hidden Layers: 4, Nodes per Layer: 128, Epochs: 10\n",
            "Test Accuracy: 0.9765, Training Time: 49.0660 seconds\n",
            "Number of Parameters: 151306\n",
            "Hidden Layers: 2, Nodes per Layer: 256, Epochs: 10\n",
            "Test Accuracy: 0.9802, Training Time: 46.9115 seconds\n",
            "Number of Parameters: 269322\n",
            "Hidden Layers: 5, Nodes per Layer: 32, Epochs: 10\n",
            "Test Accuracy: 0.9664, Training Time: 47.7032 seconds\n",
            "Number of Parameters: 29674\n",
            "Input size exploration\n",
            "Hidden Layers: 4, Nodes per Layer: 256, Epochs: 10\n",
            "Test Accuracy: 0.9788, Training Time: 53.3602 seconds\n",
            "Number of Parameters: 400906\n",
            "Using sigmoid activation function\n",
            "Hidden Layers: 4, Nodes per Layer: 64, Epochs: 10\n",
            "Test Accuracy: 0.9667, Training Time: 47.6012 seconds\n",
            "Number of Parameters: 63370\n",
            "Using tanh activation function\n",
            "Hidden Layers: 4, Nodes per Layer: 64, Epochs: 10\n",
            "Test Accuracy: 0.9686, Training Time: 50.9022 seconds\n",
            "Number of Parameters: 63370\n",
            "Using relu activation function\n",
            "Hidden Layers: 4, Nodes per Layer: 64, Epochs: 10\n",
            "Test Accuracy: 0.9738, Training Time: 55.1857 seconds\n",
            "Number of Parameters: 63370\n",
            "Activation functions - 30 epochs\n",
            "Hidden Layers: 4, Nodes per Layer: 64, Epochs: 30\n",
            "Test Accuracy: 0.9670, Training Time: 168.1784 seconds\n",
            "Number of Parameters: 63370\n",
            "Hidden Layers: 4, Nodes per Layer: 64, Epochs: 30\n",
            "Test Accuracy: 0.9721, Training Time: 149.6849 seconds\n",
            "Number of Parameters: 63370\n",
            "Hidden Layers: 4, Nodes per Layer: 64, Epochs: 30\n",
            "Test Accuracy: 0.9736, Training Time: 146.5129 seconds\n",
            "Number of Parameters: 63370\n",
            "Activation function combinations\n",
            "Custom Activation Model - Test Accuracy: 0.9659, Training Time: 50.3242 seconds\n",
            "Number of Parameters: 27562\n"
          ]
        }
      ],
      "source": [
        "cimport tensorflow as tf\n",
        "from tensorflow.keras import layers, models\n",
        "from tensorflow.keras.datasets import mnist\n",
        "import time\n",
        "\n",
        "# Load the MNIST dataset\n",
        "(X_train, y_train), (X_test, y_test) = mnist.load_data()\n",
        "\n",
        "# Preprocessing: Normalize the data to [0, 1] range and reshape it\n",
        "X_train = X_train.reshape((X_train.shape[0], 28 * 28)) / 255.0\n",
        "X_test = X_test.reshape((X_test.shape[0], 28 * 28)) / 255.0\n",
        "\n",
        "# Convert labels to one-hot encoding\n",
        "y_train = tf.keras.utils.to_categorical(y_train, 10)\n",
        "y_test = tf.keras.utils.to_categorical(y_test, 10)\n",
        "\n",
        "# Function to build and compile model\n",
        "def build_model(hidden_layers, nodes_per_layer, activation_function='relu'):\n",
        "    model = models.Sequential()\n",
        "    model.add(layers.InputLayer(input_shape=(28 * 28,)))  # Input layer\n",
        "\n",
        "    # Add hidden layers\n",
        "    for _ in range(hidden_layers):\n",
        "        model.add(layers.Dense(nodes_per_layer, activation=activation_function))\n",
        "\n",
        "    # Output layer (10 neurons for 10 digit classes)\n",
        "    model.add(layers.Dense(10, activation='softmax'))\n",
        "\n",
        "    model.compile(optimizer='adam', loss='categorical_crossentropy', metrics=['accuracy'])\n",
        "    return model\n",
        "\n",
        "# Function to train and evaluate model\n",
        "def train_and_evaluate(hidden_layers, nodes_per_layer, epochs, activation_function='relu'):\n",
        "    model = build_model(hidden_layers, nodes_per_layer, activation_function)\n",
        "\n",
        "    # Measure training time\n",
        "    start_time = time.time()\n",
        "    history = model.fit(X_train, y_train, epochs=epochs, batch_size=32, validation_data=(X_test, y_test), verbose=0)\n",
        "    training_time = time.time() - start_time\n",
        "\n",
        "    # Evaluate model on test data\n",
        "    test_loss, test_accuracy = model.evaluate(X_test, y_test, verbose=0)\n",
        "\n",
        "    # Print results\n",
        "    print(f\"Hidden Layers: {hidden_layers}, Nodes per Layer: {nodes_per_layer}, Epochs: {epochs}\")\n",
        "    print(f\"Test Accuracy: {test_accuracy:.4f}, Training Time: {training_time:.4f} seconds\")\n",
        "    print(f\"Number of Parameters: {model.count_params()}\")\n",
        "\n",
        "    return history\n",
        "\n",
        "# --- PART 2 TASKS ---\n",
        "\n",
        "# 1. Number of Nodes\n",
        "nodes = [4, 32, 64, 128, 512, 2056]\n",
        "for n in nodes:\n",
        "    train_and_evaluate(hidden_layers=1, nodes_per_layer=n, epochs=10)\n",
        "\n",
        "# 2. Number of Layers\n",
        "layers_list = [4, 5, 6, 8, 16]\n",
        "for l in layers_list:\n",
        "    train_and_evaluate(hidden_layers=l, nodes_per_layer=64, epochs=10)\n",
        "\n",
        "# Run the same models for 30 epochs to observe changes\n",
        "print(\"Running models with 30 epochs...\")\n",
        "for l in layers_list:\n",
        "    train_and_evaluate(hidden_layers=l, nodes_per_layer=64, epochs=30)\n",
        "\n",
        "# 3. Layer-node Combinations (explore different structures)\n",
        "print(\"Layer-node combinations\")\n",
        "layer_node_combinations = [(3, 64), (4, 128), (2, 256), (5, 32)]\n",
        "for (l, n) in layer_node_combinations:\n",
        "    train_and_evaluate(hidden_layers=l, nodes_per_layer=n, epochs=10)\n",
        "\n",
        "# 4. Input Size (4 hidden layers, 256 nodes each, ReLU activation)\n",
        "print(\"Input size exploration\")\n",
        "train_and_evaluate(hidden_layers=4, nodes_per_layer=256, epochs=10)\n",
        "\n",
        "# 5. Dataset Split - already done in part 1, if needed, adapt to train/evaluate with different sizes\n",
        "\n",
        "# 6. Activation Functions (Sigmoid, Tanh, ReLU)\n",
        "activation_functions = ['sigmoid', 'tanh', 'relu']\n",
        "for af in activation_functions:\n",
        "    print(f\"Using {af} activation function\")\n",
        "    train_and_evaluate(hidden_layers=4, nodes_per_layer=64, epochs=10, activation_function=af)\n",
        "\n",
        "# Run the same models for 30 epochs\n",
        "print(\"Activation functions - 30 epochs\")\n",
        "for af in activation_functions:\n",
        "    train_and_evaluate(hidden_layers=4, nodes_per_layer=64, epochs=30, activation_function=af)\n",
        "\n",
        "# 7. Activation Function Combinations\n",
        "print(\"Activation function combinations\")\n",
        "def build_custom_activation_model():\n",
        "    model = models.Sequential()\n",
        "    model.add(layers.InputLayer(input_shape=(28 * 28,)))\n",
        "    model.add(layers.Dense(32, activation='sigmoid'))  # Layer 1\n",
        "    model.add(layers.Dense(32, activation='relu'))     # Layer 2\n",
        "    model.add(layers.Dense(32, activation='tanh'))     # Layer 3\n",
        "    model.add(layers.Dense(10, activation='softmax'))  # Output layer\n",
        "    model.compile(optimizer='adam', loss='categorical_crossentropy', metrics=['accuracy'])\n",
        "    return model\n",
        "\n",
        "# Train the custom activation model\n",
        "model = build_custom_activation_model()\n",
        "start_time = time.time()\n",
        "history = model.fit(X_train, y_train, epochs=10, batch_size=32, validation_data=(X_test, y_test), verbose=0)\n",
        "training_time = time.time() - start_time\n",
        "test_loss, test_accuracy = model.evaluate(X_test, y_test, verbose=0)\n",
        "print(f\"Custom Activation Model - Test Accuracy: {test_accuracy:.4f}, Training Time: {training_time:.4f} seconds\")\n",
        "print(f\"Number of Parameters: {model.count_params()}\")"
      ]
    }
  ],
  "metadata": {
    "accelerator": "GPU",
    "colab": {
      "gpuType": "T4",
      "provenance": []
    },
    "kernelspec": {
      "display_name": "Python 3",
      "name": "python3"
    },
    "language_info": {
      "name": "python"
    }
  },
  "nbformat": 4,
  "nbformat_minor": 0
}